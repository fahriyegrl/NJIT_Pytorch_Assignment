{
  "nbformat": 4,
  "nbformat_minor": 0,
  "metadata": {
    "kernelspec": {
      "display_name": "Python 3",
      "language": "python",
      "name": "python3"
    },
    "language_info": {
      "codemirror_mode": {
        "name": "ipython",
        "version": 3
      },
      "file_extension": ".py",
      "mimetype": "text/x-python",
      "name": "python",
      "nbconvert_exporter": "python",
      "pygments_lexer": "ipython3",
      "version": "3.7.4"
    },
    "colab": {
      "provenance": [],
      "include_colab_link": true
    }
  },
  "cells": [
    {
      "cell_type": "markdown",
      "metadata": {
        "id": "view-in-github",
        "colab_type": "text"
      },
      "source": [
        "<a href=\"https://colab.research.google.com/github/fahriyegrl/NJIT_Pytorch_Assignment/blob/main/Assignment_1.ipynb\" target=\"_parent\"><img src=\"https://colab.research.google.com/assets/colab-badge.svg\" alt=\"Open In Colab\"/></a>"
      ]
    },
    {
      "cell_type": "markdown",
      "metadata": {
        "id": "Tajfsk_7JY3E"
      },
      "source": [
        "**Note to grader:** Each question consists of parts, e.g. Q1(i), Q1(ii), etc. Each part must be first graded  on a 0-4 scale, following the standard NJIT convention (A:4, B+: 3.5, B:3, C+: 2.5, C: 2, D:1, F:0). However, any given item may be worth 4 or 8 points; if an item is worth 8 points, you need to accordingly scale the 0-4 grade.\n",
        "\n",
        "\n",
        "The total score must be re-scaled to 100. That should apply to all future assignments so that Canvas assigns the same weight on all assignments.\n",
        "\n"
      ]
    },
    {
      "cell_type": "markdown",
      "metadata": {
        "id": "SArgW_Vq-uTh"
      },
      "source": [
        "# Assignment 1\n",
        "\n"
      ]
    },
    {
      "cell_type": "markdown",
      "metadata": {
        "id": "IlFM4hig-uTj"
      },
      "source": [
        "## Preparation Steps"
      ]
    },
    {
      "cell_type": "code",
      "metadata": {
        "id": "E3alYkjM-uTk"
      },
      "source": [
        "# Import all necessary python packages\n",
        "import numpy as np\n",
        "import torch\n",
        "\n"
      ],
      "execution_count": 2,
      "outputs": []
    },
    {
      "cell_type": "markdown",
      "metadata": {
        "id": "GfrfDK0P-uT5"
      },
      "source": [
        "## <font color = 'blue'> Question 1. Basic Operations with Tensors </font>\n",
        "\n",
        "Your task for this question is to follow the NumPy  [**tutorial**](https://jalammar.github.io/visual-numpy/?fbclid=IwAR0tSntx5mj1aHteokRKrT4G6z77M3z0Quj40AQZ9mvKlhs2RTN3xXrc6Eo) and 'mirror' each of the operations presented in the tutorial with tensors in PyTorch.\n",
        "\n",
        "You may find useful to consult this PyTorch introductory [tutorial](https://jhui.github.io/2018/02/09/PyTorch-Basic-operations/), and as always the full PyTorch [documentation](https://pytorch.org/docs/stable/torch.html) is the ultimate resource.\n",
        "\n",
        "*(Please insert cells below for your answers )*"
      ]
    },
    {
      "cell_type": "code",
      "metadata": {
        "id": "4po5m-tq-uT6",
        "colab": {
          "base_uri": "https://localhost:8080/"
        },
        "outputId": "22c2740d-52da-4e74-8187-01a065ec5bfa"
      },
      "source": [
        "### Operation-1: Creating Arrays\n",
        "\n",
        "x= torch.tensor([1,2,3])\n",
        "ones= torch.ones(3)\n",
        "zeros= torch.zeros(3)\n",
        "randoms= torch.rand(3)\n",
        "print(x)\n",
        "print(ones)\n",
        "print(zeros)\n",
        "print(randoms)"
      ],
      "execution_count": 3,
      "outputs": [
        {
          "output_type": "stream",
          "name": "stdout",
          "text": [
            "tensor([1, 2, 3])\n",
            "tensor([1., 1., 1.])\n",
            "tensor([0., 0., 0.])\n",
            "tensor([0.8758, 0.6382, 0.4498])\n"
          ]
        }
      ]
    },
    {
      "cell_type": "code",
      "source": [
        "### Operation-2: Arithmetic(Addition/ Multiplication/Subtraction/DivisionScalar Multiplication)\n",
        "result1 = x+ones\n",
        "print(f\"x+ones= {result1}\")\n",
        "result2 = x*ones\n",
        "print(f\"x*ones= {result2}\")\n",
        "result3 = x-ones\n",
        "print(f\"x-ones= {result3}\")\n",
        "result4 = x/ones\n",
        "print(f\"x/ones= {result4}\")"
      ],
      "metadata": {
        "colab": {
          "base_uri": "https://localhost:8080/"
        },
        "id": "uiO7gDIfj8Fc",
        "outputId": "19eea007-e518-4ca4-cb17-cc82645c8678"
      },
      "execution_count": 4,
      "outputs": [
        {
          "output_type": "stream",
          "name": "stdout",
          "text": [
            "x+ones= tensor([2., 3., 4.])\n",
            "x*ones= tensor([1., 2., 3.])\n",
            "x-ones= tensor([0., 1., 2.])\n",
            "x/ones= tensor([1., 2., 3.])\n"
          ]
        }
      ]
    },
    {
      "cell_type": "code",
      "source": [
        "### Operation-3: Indexing/Slicing\n",
        "print(f\"x= {x}\")\n",
        "sub = x[0]\n",
        "print(f\"x[0]= {sub}\")\n",
        "sub1 = x[1]\n",
        "print(f\"x[1]= {sub1}\")\n",
        "sub2 = x[0:2]\n",
        "print(f\"x[0:2]= {sub2}\")\n",
        "sub3 = x[1:]\n",
        "print(f\"x[1:]= {sub3}\")\n"
      ],
      "metadata": {
        "colab": {
          "base_uri": "https://localhost:8080/"
        },
        "id": "hN9V2Nd6lsf5",
        "outputId": "063518ed-5fde-467c-ac4f-e2a060f94564"
      },
      "execution_count": 5,
      "outputs": [
        {
          "output_type": "stream",
          "name": "stdout",
          "text": [
            "x= tensor([1, 2, 3])\n",
            "x[0]= 1\n",
            "x[1]= 2\n",
            "x[0:2]= tensor([1, 2])\n",
            "x[1:]= tensor([2, 3])\n"
          ]
        }
      ]
    },
    {
      "cell_type": "code",
      "source": [
        "### Operation-4: Aggregation\n",
        "min = x.min()\n",
        "print(f\"min= {min}\")\n",
        "max = x.max()\n",
        "print(f\"max= {max}\")\n",
        "sum = x.sum()\n",
        "print(f\"sum= {sum}\")\n",
        "mean = x.type(torch.float32).mean()\n",
        "print(f\"mean= {mean}\")\n",
        "std= x.type(torch.float32).std()\n",
        "print(f\"std= {std}\")"
      ],
      "metadata": {
        "colab": {
          "base_uri": "https://localhost:8080/"
        },
        "id": "tschjJOgmsai",
        "outputId": "cfa1b92f-924b-46d5-90aa-baf9604a93c0"
      },
      "execution_count": 6,
      "outputs": [
        {
          "output_type": "stream",
          "name": "stdout",
          "text": [
            "min= 1\n",
            "max= 3\n",
            "sum= 6\n",
            "mean= 2.0\n",
            "std= 1.0\n"
          ]
        }
      ]
    },
    {
      "cell_type": "code",
      "source": [
        "### Operation-5: Creating Matrices\n",
        "matrix= torch.tensor([[1,2,3],[4,5,6],[7,8,9]])\n",
        "print(f\"matrix= {matrix}\")\n",
        "ones_matrix = torch.ones((3, 2))\n",
        "zeros_matrix = torch.zeros((3, 2))\n",
        "random_matrix = torch.rand((3, 2))\n",
        "print(f\"ones_matrix= {ones_matrix}\")\n",
        "print(f\"zeros_matrix= {zeros_matrix}\")\n",
        "print(f\"random_matrix= {random_matrix}\")"
      ],
      "metadata": {
        "colab": {
          "base_uri": "https://localhost:8080/"
        },
        "id": "9uO47acbnbU7",
        "outputId": "e26ed89f-833d-424e-9ec1-7b225ebc7572"
      },
      "execution_count": 7,
      "outputs": [
        {
          "output_type": "stream",
          "name": "stdout",
          "text": [
            "matrix= tensor([[1, 2, 3],\n",
            "        [4, 5, 6],\n",
            "        [7, 8, 9]])\n",
            "ones_matrix= tensor([[1., 1.],\n",
            "        [1., 1.],\n",
            "        [1., 1.]])\n",
            "zeros_matrix= tensor([[0., 0.],\n",
            "        [0., 0.],\n",
            "        [0., 0.]])\n",
            "random_matrix= tensor([[0.8982, 0.8297],\n",
            "        [0.2269, 0.9883],\n",
            "        [0.2700, 0.6717]])\n"
          ]
        }
      ]
    },
    {
      "cell_type": "code",
      "source": [
        "### Operation-6: Matrix Arithmetic\n",
        "matrix1 = torch.tensor([[1, 2], [3, 4]])\n",
        "matrix2 = torch.tensor([[5, 6], [7, 8]])\n",
        "sum= matrix1+matrix2\n",
        "print(f\"matrix1+matrix2= {sum}\")\n",
        "sub= matrix1-matrix2\n",
        "print(f\"matrix1-matrix2= {sub}\")\n",
        "matrix3= torch.rand((3,2))\n",
        "matrix4= torch.rand((1,2))\n",
        "sum2= matrix3+matrix4\n",
        "print(f\"matrix3+matrix4= {sum2}\")"
      ],
      "metadata": {
        "colab": {
          "base_uri": "https://localhost:8080/"
        },
        "id": "wL6NNVv0n4t9",
        "outputId": "a61dadc8-cc6f-4513-980c-2cca89eeb415"
      },
      "execution_count": 8,
      "outputs": [
        {
          "output_type": "stream",
          "name": "stdout",
          "text": [
            "matrix1+matrix2= tensor([[ 6,  8],\n",
            "        [10, 12]])\n",
            "matrix1-matrix2= tensor([[-4, -4],\n",
            "        [-4, -4]])\n",
            "matrix3+matrix4= tensor([[1.2611, 0.8697],\n",
            "        [1.0020, 1.5832],\n",
            "        [1.4994, 1.2515]])\n"
          ]
        }
      ]
    },
    {
      "cell_type": "code",
      "source": [
        "### Operation-7: Dot Product\n",
        "print(ones, randoms)\n",
        "result= torch.dot(ones,randoms)\n",
        "print(f\"result= {result}\")\n",
        "result1 = torch.matmul(ones, randoms)\n",
        "print(f\"result1= {result1}\")"
      ],
      "metadata": {
        "colab": {
          "base_uri": "https://localhost:8080/"
        },
        "id": "A-Q_59mZpTNU",
        "outputId": "7f7aabe4-a37a-4087-9bd5-b691963ed9c6"
      },
      "execution_count": 9,
      "outputs": [
        {
          "output_type": "stream",
          "name": "stdout",
          "text": [
            "tensor([1., 1., 1.]) tensor([0.8758, 0.6382, 0.4498])\n",
            "result= 1.9638307094573975\n",
            "result1= 1.9638307094573975\n"
          ]
        }
      ]
    },
    {
      "cell_type": "code",
      "source": [
        "### Operation-8: Matrix Indexing\n",
        "### Operation-8: Matrix Indexing\n",
        "random_matrix = torch.rand((3, 2))\n",
        "print(f\"random_matrix: {random_matrix}\")\n",
        "print(\"***********************************\")\n",
        "print(f\"random_matrix[0,1]: {random_matrix[0,1]}\")\n",
        "print(\"***********************************\")\n",
        "print(f\"random_matrix[1:3]: {random_matrix[1:3]}\")\n",
        "print(\"***********************************\")\n",
        "print(f\"random_matrix[0:2,0]: {random_matrix[0:2,0]}\")"
      ],
      "metadata": {
        "colab": {
          "base_uri": "https://localhost:8080/"
        },
        "id": "GIa0cb44sBMC",
        "outputId": "bd4df7ba-9b6f-4c80-fb20-4b858465ac52"
      },
      "execution_count": 10,
      "outputs": [
        {
          "output_type": "stream",
          "name": "stdout",
          "text": [
            "random_matrix: tensor([[0.1837, 0.7681],\n",
            "        [0.0656, 0.6713],\n",
            "        [0.9338, 0.2603]])\n",
            "***********************************\n",
            "random_matrix[0,1]: 0.7680814266204834\n",
            "***********************************\n",
            "random_matrix[1:3]: tensor([[0.0656, 0.6713],\n",
            "        [0.9338, 0.2603]])\n",
            "***********************************\n",
            "random_matrix[0:2,0]: tensor([0.1837, 0.0656])\n"
          ]
        }
      ]
    },
    {
      "cell_type": "code",
      "source": [
        "### Operation-9: Matrix Aggregation\n",
        "max= random_matrix.max()\n",
        "print(f\"max= {max}\")\n",
        "min= random_matrix.min()\n",
        "print(f\"min= {min}\")\n",
        "sum= random_matrix.sum()\n",
        "print(f\"sum= {sum}\")\n",
        "\n",
        "print(\"***********************************\")\n",
        "\n",
        "max2= random_matrix.max(axis=0)\n",
        "print(f\"max2= {max2}\")\n",
        "max3= random_matrix.max(axis=1)\n",
        "print(f\"max3= {max3}\")\n"
      ],
      "metadata": {
        "colab": {
          "base_uri": "https://localhost:8080/"
        },
        "id": "Dn89nSrfsI6U",
        "outputId": "72bda184-f53b-48ba-fd62-15709a31335c"
      },
      "execution_count": 11,
      "outputs": [
        {
          "output_type": "stream",
          "name": "stdout",
          "text": [
            "max= 0.9337507486343384\n",
            "min= 0.06563740968704224\n",
            "sum= 2.882829189300537\n",
            "***********************************\n",
            "max2= torch.return_types.max(\n",
            "values=tensor([0.9338, 0.7681]),\n",
            "indices=tensor([2, 0]))\n",
            "max3= torch.return_types.max(\n",
            "values=tensor([0.7681, 0.6713, 0.9338]),\n",
            "indices=tensor([1, 1, 0]))\n"
          ]
        }
      ]
    },
    {
      "cell_type": "code",
      "source": [
        "### Operation-10: Transposing / Reshaping\n",
        "transpose= random_matrix.T\n",
        "print(f\"transpose= {transpose}\")\n",
        "print(\"***********************************\")\n",
        "reshape= random_matrix.reshape(2,3)\n",
        "print(f\"reshape= {reshape}\")"
      ],
      "metadata": {
        "colab": {
          "base_uri": "https://localhost:8080/"
        },
        "id": "KNOq12t_sEml",
        "outputId": "fc3737d7-9c71-4315-b580-de53880094d6"
      },
      "execution_count": 12,
      "outputs": [
        {
          "output_type": "stream",
          "name": "stdout",
          "text": [
            "transpose= tensor([[0.1837, 0.0656, 0.9338],\n",
            "        [0.7681, 0.6713, 0.2603]])\n",
            "***********************************\n",
            "reshape= tensor([[0.1837, 0.7681, 0.0656],\n",
            "        [0.6713, 0.9338, 0.2603]])\n"
          ]
        }
      ]
    },
    {
      "cell_type": "code",
      "source": [
        "### Operation-11: More Dimentions\n",
        "ones_d = torch.ones((4, 3, 2))\n",
        "print(f\"ones_d= {ones_d}\")\n",
        "zeros_d = torch.zeros((4, 3, 2))\n",
        "print(f\"zeros_d= {zeros_d}\")\n",
        "random_d = torch.rand((4, 2, 2))\n",
        "print(f\"random_d= {random_d}\")"
      ],
      "metadata": {
        "colab": {
          "base_uri": "https://localhost:8080/"
        },
        "id": "JSOQR0wVsRdh",
        "outputId": "01a19037-7843-431a-edf4-b37e3d71c3d3"
      },
      "execution_count": 13,
      "outputs": [
        {
          "output_type": "stream",
          "name": "stdout",
          "text": [
            "ones_d= tensor([[[1., 1.],\n",
            "         [1., 1.],\n",
            "         [1., 1.]],\n",
            "\n",
            "        [[1., 1.],\n",
            "         [1., 1.],\n",
            "         [1., 1.]],\n",
            "\n",
            "        [[1., 1.],\n",
            "         [1., 1.],\n",
            "         [1., 1.]],\n",
            "\n",
            "        [[1., 1.],\n",
            "         [1., 1.],\n",
            "         [1., 1.]]])\n",
            "zeros_d= tensor([[[0., 0.],\n",
            "         [0., 0.],\n",
            "         [0., 0.]],\n",
            "\n",
            "        [[0., 0.],\n",
            "         [0., 0.],\n",
            "         [0., 0.]],\n",
            "\n",
            "        [[0., 0.],\n",
            "         [0., 0.],\n",
            "         [0., 0.]],\n",
            "\n",
            "        [[0., 0.],\n",
            "         [0., 0.],\n",
            "         [0., 0.]]])\n",
            "random_d= tensor([[[0.5938, 0.6890],\n",
            "         [0.8058, 0.5522]],\n",
            "\n",
            "        [[0.1911, 0.9794],\n",
            "         [0.2367, 0.7451]],\n",
            "\n",
            "        [[0.6236, 0.8300],\n",
            "         [0.3199, 0.2151]],\n",
            "\n",
            "        [[0.7801, 0.9225],\n",
            "         [0.8800, 0.1616]]])\n"
          ]
        }
      ]
    },
    {
      "cell_type": "code",
      "source": [
        "### Operation-12: Formulas\n",
        "predictions = torch.tensor([3.6, 0.1, 4.1, 6.8])\n",
        "labels = torch.tensor([3.0, -0.7, 3.0, 8.5])\n",
        "n = predictions.size(0)\n",
        "mean_square_error = (1 / n) * torch.sum(torch.square(predictions - labels))\n",
        "print(f\"mean_square_error= {mean_square_error}\")"
      ],
      "metadata": {
        "colab": {
          "base_uri": "https://localhost:8080/"
        },
        "id": "1ZtK-JHJvA9a",
        "outputId": "6431d71a-dbcb-49aa-bf59-88452408ad43"
      },
      "execution_count": 14,
      "outputs": [
        {
          "output_type": "stream",
          "name": "stdout",
          "text": [
            "mean_square_error= 1.2749998569488525\n"
          ]
        }
      ]
    },
    {
      "cell_type": "code",
      "source": [
        "### Data Representation: Tables and Spreadsheets\n",
        "\n",
        "### In PyTorch, data loading from CSV files isn't done directly using PyTorch itself\n",
        "### Once the data is read throth pandas or NumPy , it can be converted into a PyTorch tensor."
      ],
      "metadata": {
        "id": "iyr1ZERwys4l"
      },
      "execution_count": 15,
      "outputs": []
    },
    {
      "cell_type": "code",
      "source": [
        "### Audio and Timeseries\n",
        "### Python has libraries such as  torchaudio for audio data.\n",
        "import torchaudio\n",
        "audio_path = \" \"\n",
        "#torchaudio.load(audio_path)"
      ],
      "metadata": {
        "id": "6pF_qoOmzCBy"
      },
      "execution_count": 16,
      "outputs": []
    },
    {
      "cell_type": "code",
      "metadata": {
        "id": "IllLoXxGAIIo"
      },
      "source": [
        "# For grader use only\n",
        "\n",
        "G = [0]*2\n",
        "\n",
        "\n",
        "# insert grade here  (from 0 to 8)\n",
        "# G[1] =\n",
        "\n",
        "# please justify point subtraction  s"
      ],
      "execution_count": 31,
      "outputs": []
    },
    {
      "cell_type": "markdown",
      "metadata": {
        "id": "YMEcdAp3-uT-"
      },
      "source": [
        "##  <font color = 'blue'> Question 2. Quadratic Regression\n",
        "\n",
        "In the lecture we discussed a simple regression problem, where points are coming from the line $y = 2x + 1$, plus some noise.  For this question you are asked to:\n",
        "\n",
        "(i) Generate data points coming from a quadratic function: $ y = -x^2 + 3x +10 $, plus some noise. <br>\n",
        "(ii) Modify the PyTorch model from the class in order for it to learn a quadratic function of the form $y = a x^2 + bx +c$. <br>\n",
        "(iii) Train your model and report what values it computes. (Sanity check: These sould be close to -1, 3, 10)\n",
        "\n",
        "\n"
      ]
    },
    {
      "cell_type": "code",
      "source": [
        "###  Creating random x values\n",
        "torch.manual_seed(42)\n",
        "n_points = 100\n",
        "x = torch.rand(n_points)\n",
        "x[:5]"
      ],
      "metadata": {
        "colab": {
          "base_uri": "https://localhost:8080/"
        },
        "id": "uW0Cn6_s38sg",
        "outputId": "c07ebc96-29f2-455e-ff50-c95e596080bc"
      },
      "execution_count": 30,
      "outputs": [
        {
          "output_type": "execute_result",
          "data": {
            "text/plain": [
              "tensor([0.8823, 0.9150, 0.3829, 0.9593, 0.3904])"
            ]
          },
          "metadata": {},
          "execution_count": 30
        }
      ]
    },
    {
      "cell_type": "code",
      "source": [
        "### Getting y based on y=−x2+3x+10\n",
        "torch.manual_seed(42)\n",
        "true_y = -x**2 + 3*x + 10\n",
        "noise = torch.randn(n_points)\n",
        "y = true_y + noise\n",
        "y, true_y[:5]"
      ],
      "metadata": {
        "colab": {
          "base_uri": "https://localhost:8080/"
        },
        "id": "OKaD_UN87Bp-",
        "outputId": "044c7510-0243-4b45-be37-36cb45dfe9ab"
      },
      "execution_count": 38,
      "outputs": [
        {
          "output_type": "execute_result",
          "data": {
            "text/plain": [
              "(tensor([13.7953, 13.3951, 11.9027,  9.8521, 11.6973, 10.2071, 10.6608, 10.1464,\n",
              "         11.1851, 12.0305, 11.5378, 10.0248, 11.1245, 10.8214, 10.9052, 11.8663,\n",
              "         13.5146, 11.2327, 10.2313, 11.9282,  9.9781, 12.2076, 11.6034, 13.4840,\n",
              "         11.5840, 12.0323, 11.5582, 11.8931, 11.1105, 10.0602, 11.6976, 11.0800,\n",
              "         10.4883, 10.5383, 10.6756, 13.4898, 11.7187, 11.4702, 11.6621, 10.1352,\n",
              "          9.9431, 11.9561, 10.7468, 11.3424, 10.4704, 12.8878, 10.5093, 10.9330,\n",
              "         10.7795,  9.8895, 10.0931, 11.3521,  9.8479, 13.0936, 10.7033, 10.8853,\n",
              "         10.1380, 11.2685, 11.8160, 11.0889, 11.2142, 12.2956, 10.3500, 12.2595,\n",
              "         12.9781, 11.8872, 14.1255, 11.0926, 10.9113, 10.3673, 10.8926, 12.8335,\n",
              "         11.8086, 10.7782, 10.0688, 10.7409, 11.0392, 10.9723,  9.3696, 11.1575,\n",
              "         10.6778, 10.1134, 10.3695, 10.2196, 12.4056, 11.5819, 12.8072,  9.8720,\n",
              "         10.0029, 12.1060, 11.6380, 10.6212, 12.0222, 13.0874, 10.3920, 10.3413,\n",
              "         10.9696, 11.0074, 11.2139, 10.6656]),\n",
              " tensor([11.8684, 11.9078, 11.0020, 11.9576, 11.0189]))"
            ]
          },
          "metadata": {},
          "execution_count": 38
        }
      ]
    },
    {
      "cell_type": "code",
      "source": [
        "torch.manual_seed(42)\n",
        "idx = torch.arange(100)\n",
        "shuffled_idx = idx[torch.randperm(100)]\n",
        "\n",
        "print(shuffled_idx)"
      ],
      "metadata": {
        "id": "8iiCd29eDSqX",
        "outputId": "b789b1a7-c22f-452b-e794-7e0c1fd281a3",
        "colab": {
          "base_uri": "https://localhost:8080/"
        }
      },
      "execution_count": 41,
      "outputs": [
        {
          "output_type": "stream",
          "name": "stdout",
          "text": [
            "tensor([42, 96, 62, 98, 46, 95, 60, 24, 78, 16, 68, 70, 11, 13, 97, 52, 99, 19,\n",
            "        71, 10, 89, 86, 18, 40,  5, 38,  9, 82, 83, 43, 32, 94, 67, 93, 75, 59,\n",
            "        79,  1, 50, 73, 66, 45, 63, 58, 22,  3, 87,  4, 61, 51, 12, 74, 21, 20,\n",
            "         6, 35, 44, 48, 37, 33, 15, 88, 31, 69, 27, 81, 85, 56,  7, 65, 47, 41,\n",
            "        29, 80, 57, 84, 36, 17, 34, 72,  2, 91,  8, 53, 30, 90, 26, 23, 54, 76,\n",
            "        14, 55,  0, 64, 77, 39, 25, 92, 49, 28])\n"
          ]
        }
      ]
    },
    {
      "cell_type": "code",
      "source": [
        "train_idx = idx[:80]\n",
        "val_idx = idx[80:]\n",
        "\n",
        "# Generates train and validation sets\n",
        "x_train, y_train = x[train_idx], y[train_idx]\n",
        "x_val, y_val = x[val_idx], y[val_idx]"
      ],
      "metadata": {
        "id": "pQWnQdq7EaZu"
      },
      "execution_count": 44,
      "outputs": []
    },
    {
      "cell_type": "code",
      "source": [
        "x_train.shape, y_train.shape, x_val.shape, y_val.shape"
      ],
      "metadata": {
        "id": "HPhuLPgvEfbB",
        "outputId": "442588e7-f1f9-4693-a9b3-452c8e702be2",
        "colab": {
          "base_uri": "https://localhost:8080/"
        }
      },
      "execution_count": 45,
      "outputs": [
        {
          "output_type": "execute_result",
          "data": {
            "text/plain": [
              "(torch.Size([80]), torch.Size([80]), torch.Size([20]), torch.Size([20]))"
            ]
          },
          "metadata": {},
          "execution_count": 45
        }
      ]
    },
    {
      "cell_type": "markdown",
      "metadata": {
        "id": "a0ek4Ry_-uT_"
      },
      "source": []
    },
    {
      "cell_type": "code",
      "metadata": {
        "id": "sBjMZF1wGaUp"
      },
      "source": [
        "# for grader use only\n",
        "\n",
        "# insert grade here\n",
        "# part (i): 4, part(ii) 8, part (iii) 8\n",
        "\n",
        "# G[2] =\n",
        "#\n",
        "# please justify point subtractions"
      ],
      "execution_count": 35,
      "outputs": []
    },
    {
      "cell_type": "code",
      "source": [
        "# total score\n",
        "max_score = 36\n",
        "final_score = sum(G)*(100/max_score)"
      ],
      "metadata": {
        "id": "EZHVWBIjIuoy",
        "colab": {
          "base_uri": "https://localhost:8080/",
          "height": 176
        },
        "outputId": "c8cc2023-3bc2-4fa3-9758-8ea8121aac2c"
      },
      "execution_count": 36,
      "outputs": [
        {
          "output_type": "error",
          "ename": "TypeError",
          "evalue": "'Tensor' object is not callable",
          "traceback": [
            "\u001b[0;31m---------------------------------------------------------------------------\u001b[0m",
            "\u001b[0;31mTypeError\u001b[0m                                 Traceback (most recent call last)",
            "\u001b[0;32m<ipython-input-36-15cf17c33c5c>\u001b[0m in \u001b[0;36m<cell line: 0>\u001b[0;34m()\u001b[0m\n\u001b[1;32m      1\u001b[0m \u001b[0;31m# total score\u001b[0m\u001b[0;34m\u001b[0m\u001b[0;34m\u001b[0m\u001b[0m\n\u001b[1;32m      2\u001b[0m \u001b[0mmax_score\u001b[0m \u001b[0;34m=\u001b[0m \u001b[0;36m36\u001b[0m\u001b[0;34m\u001b[0m\u001b[0;34m\u001b[0m\u001b[0m\n\u001b[0;32m----> 3\u001b[0;31m \u001b[0mfinal_score\u001b[0m \u001b[0;34m=\u001b[0m \u001b[0msum\u001b[0m\u001b[0;34m(\u001b[0m\u001b[0mG\u001b[0m\u001b[0;34m)\u001b[0m\u001b[0;34m*\u001b[0m\u001b[0;34m(\u001b[0m\u001b[0;36m100\u001b[0m\u001b[0;34m/\u001b[0m\u001b[0mmax_score\u001b[0m\u001b[0;34m)\u001b[0m\u001b[0;34m\u001b[0m\u001b[0;34m\u001b[0m\u001b[0m\n\u001b[0m",
            "\u001b[0;31mTypeError\u001b[0m: 'Tensor' object is not callable"
          ]
        }
      ]
    },
    {
      "cell_type": "code",
      "source": [],
      "metadata": {
        "id": "P5CaHjIuI67F"
      },
      "execution_count": null,
      "outputs": []
    }
  ]
}