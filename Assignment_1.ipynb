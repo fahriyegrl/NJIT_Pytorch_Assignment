{
  "nbformat": 4,
  "nbformat_minor": 0,
  "metadata": {
    "kernelspec": {
      "display_name": "Python 3",
      "language": "python",
      "name": "python3"
    },
    "language_info": {
      "codemirror_mode": {
        "name": "ipython",
        "version": 3
      },
      "file_extension": ".py",
      "mimetype": "text/x-python",
      "name": "python",
      "nbconvert_exporter": "python",
      "pygments_lexer": "ipython3",
      "version": "3.7.4"
    },
    "colab": {
      "provenance": [],
      "include_colab_link": true
    }
  },
  "cells": [
    {
      "cell_type": "markdown",
      "metadata": {
        "id": "view-in-github",
        "colab_type": "text"
      },
      "source": [
        "<a href=\"https://colab.research.google.com/github/fahriyegrl/NJIT_Pytorch_Assignment/blob/main/Assignment_1.ipynb\" target=\"_parent\"><img src=\"https://colab.research.google.com/assets/colab-badge.svg\" alt=\"Open In Colab\"/></a>"
      ]
    },
    {
      "cell_type": "markdown",
      "metadata": {
        "id": "Tajfsk_7JY3E"
      },
      "source": [
        "**Note to grader:** Each question consists of parts, e.g. Q1(i), Q1(ii), etc. Each part must be first graded  on a 0-4 scale, following the standard NJIT convention (A:4, B+: 3.5, B:3, C+: 2.5, C: 2, D:1, F:0). However, any given item may be worth 4 or 8 points; if an item is worth 8 points, you need to accordingly scale the 0-4 grade.\n",
        "\n",
        "\n",
        "The total score must be re-scaled to 100. That should apply to all future assignments so that Canvas assigns the same weight on all assignments.\n",
        "\n"
      ]
    },
    {
      "cell_type": "markdown",
      "metadata": {
        "id": "SArgW_Vq-uTh"
      },
      "source": [
        "# Assignment 1\n",
        "\n"
      ]
    },
    {
      "cell_type": "markdown",
      "metadata": {
        "id": "IlFM4hig-uTj"
      },
      "source": [
        "## Preparation Steps"
      ]
    },
    {
      "cell_type": "code",
      "metadata": {
        "id": "E3alYkjM-uTk"
      },
      "source": [
        "# Import all necessary python packages\n",
        "import numpy as np\n",
        "import torch\n",
        "\n"
      ],
      "execution_count": 1,
      "outputs": []
    },
    {
      "cell_type": "markdown",
      "metadata": {
        "id": "GfrfDK0P-uT5"
      },
      "source": [
        "## <font color = 'blue'> Question 1. Basic Operations with Tensors </font>\n",
        "\n",
        "Your task for this question is to follow the NumPy  [**tutorial**](https://jalammar.github.io/visual-numpy/?fbclid=IwAR0tSntx5mj1aHteokRKrT4G6z77M3z0Quj40AQZ9mvKlhs2RTN3xXrc6Eo) and 'mirror' each of the operations presented in the tutorial with tensors in PyTorch.\n",
        "\n",
        "You may find useful to consult this PyTorch introductory [tutorial](https://jhui.github.io/2018/02/09/PyTorch-Basic-operations/), and as always the full PyTorch [documentation](https://pytorch.org/docs/stable/torch.html) is the ultimate resource.\n",
        "\n",
        "*(Please insert cells below for your answers )*"
      ]
    },
    {
      "cell_type": "code",
      "metadata": {
        "id": "4po5m-tq-uT6",
        "colab": {
          "base_uri": "https://localhost:8080/"
        },
        "outputId": "c0b1cc4b-890b-4680-be76-5a29144d87d9"
      },
      "source": [
        "### Operation-1: Creating Arrays\n",
        "\n",
        "x= torch.tensor([1,2,3])\n",
        "ones= torch.ones(3)\n",
        "zeros= torch.zeros(3)\n",
        "randoms= torch.rand(3)\n",
        "print(x)\n",
        "print(ones)\n",
        "print(zeros)\n",
        "print(randoms)"
      ],
      "execution_count": 6,
      "outputs": [
        {
          "output_type": "stream",
          "name": "stdout",
          "text": [
            "tensor([1, 2, 3])\n",
            "tensor([1., 1., 1.])\n",
            "tensor([0., 0., 0.])\n",
            "tensor([0.0935, 0.5264, 0.6879])\n"
          ]
        }
      ]
    },
    {
      "cell_type": "code",
      "source": [
        "### Operation-2: Arithmetic(Addition/ Multiplication/Subtraction/DivisionScalar Multiplication)\n",
        "result1 = x+ones\n",
        "print(f\"x+ones= {result1}\")\n",
        "result2 = x*ones\n",
        "print(f\"x*ones= {result2}\")\n",
        "result3 = x-ones\n",
        "print(f\"x-ones= {result3}\")\n",
        "result4 = x/ones\n",
        "print(f\"x/ones= {result4}\")"
      ],
      "metadata": {
        "colab": {
          "base_uri": "https://localhost:8080/"
        },
        "id": "uiO7gDIfj8Fc",
        "outputId": "cc03af77-d232-496f-8539-b96f7fa3b60f"
      },
      "execution_count": 14,
      "outputs": [
        {
          "output_type": "stream",
          "name": "stdout",
          "text": [
            "x+ones= tensor([2., 3., 4.])\n",
            "x*ones= tensor([1., 2., 3.])\n",
            "x-ones= tensor([0., 1., 2.])\n",
            "x/ones= tensor([1., 2., 3.])\n"
          ]
        }
      ]
    },
    {
      "cell_type": "code",
      "source": [
        "### Operation-3: Indexing/Slicing\n",
        "print(f\"x= {x}\")\n",
        "sub = x[0]\n",
        "print(f\"x[0]= {sub}\")\n",
        "sub1 = x[1]\n",
        "print(f\"x[1]= {sub1}\")\n",
        "sub2 = x[0:2]\n",
        "print(f\"x[0:2]= {sub2}\")\n",
        "sub3 = x[1:]\n",
        "print(f\"x[1:]= {sub3}\")\n"
      ],
      "metadata": {
        "colab": {
          "base_uri": "https://localhost:8080/"
        },
        "id": "hN9V2Nd6lsf5",
        "outputId": "2b6a72cc-3cec-4506-95ce-8e933c8babce"
      },
      "execution_count": 20,
      "outputs": [
        {
          "output_type": "stream",
          "name": "stdout",
          "text": [
            "x= tensor([1, 2, 3])\n",
            "x[0]= 1\n",
            "x[1]= 2\n",
            "x[0:2]= tensor([1, 2])\n",
            "x[1:]= tensor([2, 3])\n"
          ]
        }
      ]
    },
    {
      "cell_type": "code",
      "source": [
        "### Operation-4: Aggregation\n",
        "min = x.min()\n",
        "print(f\"min= {min}\")\n",
        "max = x.max()\n",
        "print(f\"max= {max}\")\n",
        "sum = x.sum()\n",
        "print(f\"sum= {sum}\")\n",
        "mean = x.type(torch.float32).mean()\n",
        "print(f\"mean= {mean}\")\n",
        "std= x.type(torch.float32).std()\n",
        "print(f\"std= {std}\")"
      ],
      "metadata": {
        "colab": {
          "base_uri": "https://localhost:8080/"
        },
        "id": "tschjJOgmsai",
        "outputId": "7df2544c-6166-421d-c17a-647f8454b660"
      },
      "execution_count": 26,
      "outputs": [
        {
          "output_type": "stream",
          "name": "stdout",
          "text": [
            "min= 1\n",
            "max= 3\n",
            "sum= 6\n",
            "mean= 2.0\n",
            "std= 1.0\n"
          ]
        }
      ]
    },
    {
      "cell_type": "code",
      "source": [
        "### Operation-5: Creating Matrices\n",
        "matrix= torch.tensor([[1,2,3],[4,5,6],[7,8,9]])\n",
        "print(f\"matrix= {matrix}\")\n",
        "ones_matrix = torch.ones((3, 2))\n",
        "zeros_matrix = torch.zeros((3, 2))\n",
        "random_matrix = torch.rand((3, 2))\n",
        "print(f\"ones_matrix= {ones_matrix}\")\n",
        "print(f\"zeros_matrix= {zeros_matrix}\")\n",
        "print(f\"random_matrix= {random_matrix}\")"
      ],
      "metadata": {
        "colab": {
          "base_uri": "https://localhost:8080/"
        },
        "id": "9uO47acbnbU7",
        "outputId": "adbb686b-a0f0-4053-91db-ffcffb19275d"
      },
      "execution_count": 29,
      "outputs": [
        {
          "output_type": "stream",
          "name": "stdout",
          "text": [
            "matrix= tensor([[1, 2, 3],\n",
            "        [4, 5, 6],\n",
            "        [7, 8, 9]])\n",
            "ones_matrix= tensor([[1., 1.],\n",
            "        [1., 1.],\n",
            "        [1., 1.]])\n",
            "zeros_matrix= tensor([[0., 0.],\n",
            "        [0., 0.],\n",
            "        [0., 0.]])\n",
            "random_matrix= tensor([[0.6434, 0.5612],\n",
            "        [0.1790, 0.1797],\n",
            "        [0.8759, 0.3699]])\n"
          ]
        }
      ]
    },
    {
      "cell_type": "code",
      "source": [
        "### Operation-6: Matrix Arithmetic\n",
        "matrix1 = torch.tensor([[1, 2], [3, 4]])\n",
        "matrix2 = torch.tensor([[5, 6], [7, 8]]))\n",
        "sum= matrix1+matrix2\n",
        "print(f\"matrix1+matrix2= {sum}\")\n",
        "sub= matrix1-matrix2\n",
        "print(f\"matrix1-matrix2= {sub}\")\n",
        "matrix3= torch.rand((3,2))\n",
        "matrix4= torch.rand((1,2))\n",
        "sum2= matrix3+matrix4\n",
        "print(f\"matrix3+matrix4= {sum2}\")"
      ],
      "metadata": {
        "colab": {
          "base_uri": "https://localhost:8080/"
        },
        "id": "wL6NNVv0n4t9",
        "outputId": "f3b49e4b-daaa-4a5a-a5d0-ae2670705cd8"
      },
      "execution_count": 34,
      "outputs": [
        {
          "output_type": "stream",
          "name": "stdout",
          "text": [
            "matrix1+matrix2= tensor([[ 6,  8],\n",
            "        [10, 12]])\n",
            "matrix1-matrix2= tensor([[-4, -4],\n",
            "        [-4, -4]])\n",
            "matrix3+matrix4= tensor([[0.6649, 1.6568],\n",
            "        [0.7666, 0.9552],\n",
            "        [0.9681, 0.8607]])\n"
          ]
        }
      ]
    },
    {
      "cell_type": "code",
      "source": [
        "### Operation-7: Dot Product\n",
        "print(ones, randoms)\n",
        "result= torch.dot(ones,randoms)\n",
        "print(f\"result= {result}\")\n",
        "result1 = torch.matmul(ones, randoms)\n",
        "print(f\"result1= {result1}\")"
      ],
      "metadata": {
        "colab": {
          "base_uri": "https://localhost:8080/"
        },
        "id": "A-Q_59mZpTNU",
        "outputId": "eff7ea5f-263b-4581-aa74-4f634e3f5efe"
      },
      "execution_count": 46,
      "outputs": [
        {
          "output_type": "stream",
          "name": "stdout",
          "text": [
            "tensor([1., 1., 1.]) tensor([0.0935, 0.5264, 0.6879])\n",
            "result= 1.3077363967895508\n",
            "result1= 1.3077363967895508\n"
          ]
        }
      ]
    },
    {
      "cell_type": "code",
      "source": [
        "### Operation-8: Matrix Indexing\n",
        "### Operation-8: Matrix Indexing\n",
        "random_matrix = torch.rand((3, 2))\n",
        "print(f\"random_matrix: {random_matrix}\")\n",
        "print(\"***********************************\")\n",
        "print(f\"random_matrix[0,1]: {random_matrix[0,1]}\")\n",
        "print(\"***********************************\")\n",
        "print(f\"random_matrix[1:3]: {random_matrix[1:3]}\")\n",
        "print(\"***********************************\")\n",
        "print(f\"random_matrix[0:2,0]: {random_matrix[0:2,0]}\")"
      ],
      "metadata": {
        "colab": {
          "base_uri": "https://localhost:8080/"
        },
        "id": "GIa0cb44sBMC",
        "outputId": "42710ef3-1b65-48f6-c28a-62e24f2cb152"
      },
      "execution_count": 55,
      "outputs": [
        {
          "output_type": "stream",
          "name": "stdout",
          "text": [
            "random_matrix: tensor([[0.3691, 0.6705],\n",
            "        [0.1272, 0.6710],\n",
            "        [0.7757, 0.3773]])\n",
            "***********************************\n",
            "random_matrix[0,1]: 0.6704935431480408\n",
            "***********************************\n",
            "random_matrix[1:3]: tensor([[0.1272, 0.6710],\n",
            "        [0.7757, 0.3773]])\n",
            "***********************************\n",
            "random_matrix[0:2,0]: tensor([0.3691, 0.1272])\n"
          ]
        }
      ]
    },
    {
      "cell_type": "code",
      "source": [
        "### Operation-9: Matrix Aggregation\n",
        "max= random_matrix.max()\n",
        "print(f\"max= {max}\")\n",
        "min= random_matrix.min()\n",
        "print(f\"min= {min}\")\n",
        "sum= random_matrix.sum()\n",
        "print(f\"sum= {sum}\")\n",
        "\n",
        "print(\"***********************************\")\n",
        "\n",
        "max2= random_matrix.max(axis=0)\n",
        "print(f\"max2= {max2}\")\n",
        "max3= random_matrix.max(axis=1)\n",
        "print(f\"max3= {max3}\")\n"
      ],
      "metadata": {
        "colab": {
          "base_uri": "https://localhost:8080/"
        },
        "id": "Dn89nSrfsI6U",
        "outputId": "d2b8f3f2-fcbe-47dd-8277-c7e1379bcd5a"
      },
      "execution_count": 59,
      "outputs": [
        {
          "output_type": "stream",
          "name": "stdout",
          "text": [
            "max= 0.7756815552711487\n",
            "min= 0.12722361087799072\n",
            "sum= 2.9908664226531982\n",
            "***********************************\n",
            "max2= torch.return_types.max(\n",
            "values=tensor([0.7757, 0.6710]),\n",
            "indices=tensor([2, 1]))\n",
            "max3= torch.return_types.max(\n",
            "values=tensor([0.6705, 0.6710, 0.7757]),\n",
            "indices=tensor([1, 1, 0]))\n"
          ]
        }
      ]
    },
    {
      "cell_type": "code",
      "source": [
        "### Operation-10: Transposing / Reshaping\n",
        "transpose= random_matrix.T\n",
        "print(f\"transpose= {transpose}\")\n",
        "print(\"***********************************\")\n",
        "reshape= random_matrix.reshape(2,3)\n",
        "print(f\"reshape= {reshape}\")"
      ],
      "metadata": {
        "colab": {
          "base_uri": "https://localhost:8080/"
        },
        "id": "KNOq12t_sEml",
        "outputId": "79301db1-0a9f-451e-915a-9d968aced203"
      },
      "execution_count": 60,
      "outputs": [
        {
          "output_type": "stream",
          "name": "stdout",
          "text": [
            "transpose= tensor([[0.3691, 0.1272, 0.7757],\n",
            "        [0.6705, 0.6710, 0.3773]])\n",
            "***********************************\n",
            "reshape= tensor([[0.3691, 0.6705, 0.1272],\n",
            "        [0.6710, 0.7757, 0.3773]])\n"
          ]
        }
      ]
    },
    {
      "cell_type": "code",
      "source": [
        "### Operation-11: More Dimentions\n",
        "ones_d = torch.ones((4, 3, 2))\n",
        "print(f\"ones_d= {ones_d}\")\n",
        "zeros_d = torch.zeros((4, 3, 2))\n",
        "print(f\"zeros_d= {zeros_d}\")\n",
        "random_d = torch.rand((4, 2, 2))\n",
        "print(f\"random_d= {random_d}\")"
      ],
      "metadata": {
        "colab": {
          "base_uri": "https://localhost:8080/"
        },
        "id": "JSOQR0wVsRdh",
        "outputId": "f01acf06-6000-4132-a8fc-cd213acf9004"
      },
      "execution_count": 62,
      "outputs": [
        {
          "output_type": "stream",
          "name": "stdout",
          "text": [
            "ones_d= tensor([[[1., 1.],\n",
            "         [1., 1.],\n",
            "         [1., 1.]],\n",
            "\n",
            "        [[1., 1.],\n",
            "         [1., 1.],\n",
            "         [1., 1.]],\n",
            "\n",
            "        [[1., 1.],\n",
            "         [1., 1.],\n",
            "         [1., 1.]],\n",
            "\n",
            "        [[1., 1.],\n",
            "         [1., 1.],\n",
            "         [1., 1.]]])\n",
            "zeros_d= tensor([[[0., 0.],\n",
            "         [0., 0.],\n",
            "         [0., 0.]],\n",
            "\n",
            "        [[0., 0.],\n",
            "         [0., 0.],\n",
            "         [0., 0.]],\n",
            "\n",
            "        [[0., 0.],\n",
            "         [0., 0.],\n",
            "         [0., 0.]],\n",
            "\n",
            "        [[0., 0.],\n",
            "         [0., 0.],\n",
            "         [0., 0.]]])\n",
            "random_d= tensor([[[0.9162, 0.5398],\n",
            "         [0.7069, 0.1303]],\n",
            "\n",
            "        [[0.0405, 0.6338],\n",
            "         [0.5409, 0.4502]],\n",
            "\n",
            "        [[0.0624, 0.9271],\n",
            "         [0.1396, 0.5913]],\n",
            "\n",
            "        [[0.4883, 0.9090],\n",
            "         [0.7776, 0.9446]]])\n"
          ]
        }
      ]
    },
    {
      "cell_type": "code",
      "source": [
        "### Operation-12: Formulas\n",
        "predictions = torch.tensor([3.6, 0.1, 4.1, 6.8])\n",
        "labels = torch.tensor([3.0, -0.7, 3.0, 8.5])\n",
        "n = predictions.size(0)\n",
        "mean_square_error = (1 / n) * torch.sum(torch.square(predictions - labels))\n",
        "print(f\"mean_square_error= {mean_square_error}\")"
      ],
      "metadata": {
        "colab": {
          "base_uri": "https://localhost:8080/"
        },
        "id": "1ZtK-JHJvA9a",
        "outputId": "15192eff-1e2d-47c3-8615-85de0a045de4"
      },
      "execution_count": 64,
      "outputs": [
        {
          "output_type": "stream",
          "name": "stdout",
          "text": [
            "mean_square_error= 1.2749998569488525\n"
          ]
        }
      ]
    },
    {
      "cell_type": "code",
      "source": [
        "### Data Representation: Tables and Spreadsheets\n",
        "\n",
        "### In PyTorch, data loading from CSV files isn't done directly using PyTorch itself\n",
        "### Once the data is read throth pandas or NumPy , it can be converted into a PyTorch tensor."
      ],
      "metadata": {
        "id": "iyr1ZERwys4l"
      },
      "execution_count": null,
      "outputs": []
    },
    {
      "cell_type": "code",
      "source": [
        "### Audio and Timeseries\n",
        "### Python has libraries such as  torchaudio for audio data.\n",
        "import torchaudio\n",
        "audio_path = \" \"\n",
        "#torchaudio.load(audio_path)"
      ],
      "metadata": {
        "id": "6pF_qoOmzCBy"
      },
      "execution_count": 66,
      "outputs": []
    },
    {
      "cell_type": "code",
      "metadata": {
        "id": "IllLoXxGAIIo"
      },
      "source": [
        "# For grader use only\n",
        "\n",
        "G = [0]*2\n",
        "\n",
        "\n",
        "# insert grade here  (from 0 to 8)\n",
        "# G[1] =\n",
        "\n",
        "# please justify point subtraction  s"
      ],
      "execution_count": null,
      "outputs": []
    },
    {
      "cell_type": "markdown",
      "metadata": {
        "id": "YMEcdAp3-uT-"
      },
      "source": [
        "##  <font color = 'blue'> Question 2. Quadratic Regression\n",
        "\n",
        "In the lecture we discussed a simple regression problem, where points are coming from the line $y = 2x + 1$, plus some noise.  For this question you are asked to:\n",
        "\n",
        "(i) Generate data points coming from a quadratic function: $ y = -x^2 + 3x +10 $, plus some noise. <br>\n",
        "(ii) Modify the PyTorch model from the class in order for it to learn a quadratic function of the form $y = a x^2 + bx +c$. <br>\n",
        "(iii) Train your model and report what values it computes. (Sanity check: These sould be close to -1, 3, 10)\n",
        "\n",
        "\n"
      ]
    },
    {
      "cell_type": "code",
      "source": [
        "###  Creating random x values\n",
        "n_points = 100\n",
        "x = torch.linspace(-5, 5, n_points)\n",
        "x"
      ],
      "metadata": {
        "colab": {
          "base_uri": "https://localhost:8080/"
        },
        "id": "uW0Cn6_s38sg",
        "outputId": "bb31eef2-3637-46ed-ae3a-59726db9611c"
      },
      "execution_count": 71,
      "outputs": [
        {
          "output_type": "execute_result",
          "data": {
            "text/plain": [
              "tensor([-5.0000, -4.8990, -4.7980, -4.6970, -4.5960, -4.4949, -4.3939, -4.2929,\n",
              "        -4.1919, -4.0909, -3.9899, -3.8889, -3.7879, -3.6869, -3.5859, -3.4848,\n",
              "        -3.3838, -3.2828, -3.1818, -3.0808, -2.9798, -2.8788, -2.7778, -2.6768,\n",
              "        -2.5758, -2.4747, -2.3737, -2.2727, -2.1717, -2.0707, -1.9697, -1.8687,\n",
              "        -1.7677, -1.6667, -1.5657, -1.4646, -1.3636, -1.2626, -1.1616, -1.0606,\n",
              "        -0.9596, -0.8586, -0.7576, -0.6566, -0.5556, -0.4545, -0.3535, -0.2525,\n",
              "        -0.1515, -0.0505,  0.0505,  0.1515,  0.2525,  0.3535,  0.4545,  0.5556,\n",
              "         0.6566,  0.7576,  0.8586,  0.9596,  1.0606,  1.1616,  1.2626,  1.3636,\n",
              "         1.4646,  1.5657,  1.6667,  1.7677,  1.8687,  1.9697,  2.0707,  2.1717,\n",
              "         2.2727,  2.3737,  2.4747,  2.5758,  2.6768,  2.7778,  2.8788,  2.9798,\n",
              "         3.0808,  3.1818,  3.2828,  3.3838,  3.4848,  3.5859,  3.6869,  3.7879,\n",
              "         3.8889,  3.9899,  4.0909,  4.1919,  4.2929,  4.3939,  4.4949,  4.5960,\n",
              "         4.6970,  4.7980,  4.8990,  5.0000])"
            ]
          },
          "metadata": {},
          "execution_count": 71
        }
      ]
    },
    {
      "cell_type": "markdown",
      "metadata": {
        "id": "a0ek4Ry_-uT_"
      },
      "source": []
    },
    {
      "cell_type": "code",
      "metadata": {
        "id": "sBjMZF1wGaUp"
      },
      "source": [
        "# for grader use only\n",
        "\n",
        "# insert grade here\n",
        "# part (i): 4, part(ii) 8, part (iii) 8\n",
        "\n",
        "# G[2] =\n",
        "#\n",
        "# please justify point subtractions"
      ],
      "execution_count": null,
      "outputs": []
    },
    {
      "cell_type": "code",
      "source": [
        "# total score\n",
        "max_score = 36\n",
        "final_score = sum(G)*(100/max_score)"
      ],
      "metadata": {
        "id": "EZHVWBIjIuoy"
      },
      "execution_count": null,
      "outputs": []
    },
    {
      "cell_type": "code",
      "source": [],
      "metadata": {
        "id": "P5CaHjIuI67F"
      },
      "execution_count": null,
      "outputs": []
    }
  ]
}